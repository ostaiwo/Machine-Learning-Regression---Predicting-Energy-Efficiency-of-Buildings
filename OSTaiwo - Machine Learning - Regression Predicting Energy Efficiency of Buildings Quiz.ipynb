{
 "cells": [
  {
   "cell_type": "code",
   "execution_count": 1,
   "id": "4d2e0ad4",
   "metadata": {},
   "outputs": [],
   "source": [
    "import numpy as np\n",
    "from sklearn.linear_model import LinearRegression\n",
    "import pandas as pd\n",
    "import seaborn as sns"
   ]
  },
  {
   "cell_type": "code",
   "execution_count": 2,
   "id": "630c4b43",
   "metadata": {},
   "outputs": [],
   "source": [
    "df = pd.read_excel('Desktop\\Shortcut\\Hamoye\\Course-2\\quiz_energydata_complete.xlsx')"
   ]
  },
  {
   "cell_type": "code",
   "execution_count": 7,
   "id": "2c3b59a0",
   "metadata": {},
   "outputs": [
    {
     "name": "stdout",
     "output_type": "stream",
     "text": [
      "[[19.2       ]\n",
      " [19.2       ]\n",
      " [19.2       ]\n",
      " ...\n",
      " [25.62857143]\n",
      " [25.414     ]\n",
      " [25.26428571]]\n"
     ]
    }
   ],
   "source": [
    "df_x = np.array(df['T2']).reshape((-1, 1))\n",
    "print(df_x)"
   ]
  },
  {
   "cell_type": "code",
   "execution_count": 8,
   "id": "24bcf9a4",
   "metadata": {},
   "outputs": [
    {
     "name": "stdout",
     "output_type": "stream",
     "text": [
      "[ 7.02666667  6.83333333  6.56       ... 23.62666667 22.43333333\n",
      " 21.02666667]\n"
     ]
    }
   ],
   "source": [
    "df_y = np.array(df['T6'])\n",
    "print(df_y)"
   ]
  },
  {
   "cell_type": "code",
   "execution_count": 9,
   "id": "5433d838",
   "metadata": {},
   "outputs": [],
   "source": [
    "x, y = df_x, df_y"
   ]
  },
  {
   "cell_type": "code",
   "execution_count": 10,
   "id": "83c2afe0",
   "metadata": {},
   "outputs": [],
   "source": [
    "model = LinearRegression().fit(x, y)"
   ]
  },
  {
   "cell_type": "code",
   "execution_count": 11,
   "id": "7bd94874",
   "metadata": {},
   "outputs": [
    {
     "name": "stdout",
     "output_type": "stream",
     "text": [
      "coefficient of determination: 0.6418990830855491\n"
     ]
    }
   ],
   "source": [
    "# The coefficient of determination \n",
    "r_sq = model.score(x, y)\n",
    "print('coefficient of determination:', r_sq)"
   ]
  },
  {
   "cell_type": "code",
   "execution_count": 12,
   "id": "d6bbb7d7",
   "metadata": {},
   "outputs": [
    {
     "name": "stdout",
     "output_type": "stream",
     "text": [
      "predicted response:\n",
      "[ 5.37165597  5.37165597  5.37165597 ... 19.67562202 19.19818742\n",
      " 18.86506395]\n"
     ]
    }
   ],
   "source": [
    "y_pred = model.predict(x)\n",
    "print('predicted response:', y_pred, sep='\\n')"
   ]
  },
  {
   "cell_type": "code",
   "execution_count": 14,
   "id": "97333b7d",
   "metadata": {},
   "outputs": [
    {
     "name": "stdout",
     "output_type": "stream",
     "text": [
      "2.84\n"
     ]
    }
   ],
   "source": [
    "# Mean Absolute Error (MAE)\n",
    "from sklearn.metrics import mean_absolute_error\n",
    "mae = mean_absolute_error(df_y, y_pred)\n",
    "print(round(mae, 2))"
   ]
  },
  {
   "cell_type": "code",
   "execution_count": 15,
   "id": "f59d1475",
   "metadata": {},
   "outputs": [
    {
     "name": "stdout",
     "output_type": "stream",
     "text": [
      "262122.67\n"
     ]
    }
   ],
   "source": [
    "# Residual Sum of Squares (RSS)\n",
    "rss = np.sum(np.square(df_y - y_pred))\n",
    "print(round(rss, 2))"
   ]
  },
  {
   "cell_type": "code",
   "execution_count": 16,
   "id": "46e55c01",
   "metadata": {},
   "outputs": [
    {
     "name": "stdout",
     "output_type": "stream",
     "text": [
      "3.644\n"
     ]
    }
   ],
   "source": [
    "# Root Mean Square Error\n",
    "from sklearn.metrics import  mean_squared_error\n",
    "rmse = np.sqrt(mean_squared_error(df_y, y_pred))\n",
    "print(round(rmse, 3))"
   ]
  },
  {
   "cell_type": "code",
   "execution_count": 17,
   "id": "f2518923",
   "metadata": {},
   "outputs": [
    {
     "name": "stdout",
     "output_type": "stream",
     "text": [
      "0.64\n"
     ]
    }
   ],
   "source": [
    "# Coefficient of Determination\n",
    "from sklearn.metrics import r2_score\n",
    "r2_score = r2_score(df_y, y_pred)\n",
    "print(round(r2_score, 2))"
   ]
  },
  {
   "cell_type": "code",
   "execution_count": null,
   "id": "b27f2354",
   "metadata": {},
   "outputs": [],
   "source": []
  }
 ],
 "metadata": {
  "kernelspec": {
   "display_name": "Python 3",
   "language": "python",
   "name": "python3"
  },
  "language_info": {
   "codemirror_mode": {
    "name": "ipython",
    "version": 3
   },
   "file_extension": ".py",
   "mimetype": "text/x-python",
   "name": "python",
   "nbconvert_exporter": "python",
   "pygments_lexer": "ipython3",
   "version": "3.8.8"
  }
 },
 "nbformat": 4,
 "nbformat_minor": 5
}
